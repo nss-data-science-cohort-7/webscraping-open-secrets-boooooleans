{
 "cells": [
  {
   "cell_type": "code",
   "execution_count": 118,
   "metadata": {},
   "outputs": [],
   "source": [
    "from bs4 import BeautifulSoup\n",
    "import requests\n",
    "import pandas as pd\n",
    "import re\n",
    "import sys"
   ]
  },
  {
   "cell_type": "code",
   "execution_count": 119,
   "metadata": {},
   "outputs": [],
   "source": [
    "# Fucntion which recieves state and district in the form e.g. TN07 as arg to scrape page\n",
    "def scrape_candidate_data(state_district):\n",
    "    endpoint = f'https://www.opensecrets.org/races/candidates?cycle=2020&id={state_district}&spec=N'\n",
    "    res = requests.get(endpoint)\n",
    "    soup = BeautifulSoup(res.text, 'html.parser')\n",
    "    pandas_data = []\n",
    "    bad_districts = []\n",
    "\n",
    "    try:\n",
    "        # Locate the main div containing all candidate blocks\n",
    "        candidates_div = soup.find('div', class_=\"Members--list\")\n",
    "        \n",
    "        if candidates_div:\n",
    "            # Extract candidate blocks\n",
    "            candidates_blocks = candidates_div.find_all('div', class_='Members--list-item')\n",
    "            \n",
    "            for block in candidates_blocks:\n",
    "                # Extract the name, party, and other details\n",
    "                candidate_h2_text = block.find('h2').get_text(strip=True)\n",
    "                pattern = re.compile(r\"(.+?) \\((R|D|I)\\)\")\n",
    "                match = pattern.match(candidate_h2_text)\n",
    "                print(match.groups())\n",
    "                name, party = match.groups()\n",
    "                incumbent = \"Incumbent\" in candidate_h2_text\n",
    "\n",
    "                # Check winner status via tag and class directly\n",
    "                winner = block.find('span', class_='winner') is not None\n",
    "\n",
    "                # Extract vote percentage by looking directly for the relevant span and class\n",
    "                vote_pct_tag = block.find('span', class_='Members--vote-pct')\n",
    "                vote_pct = None\n",
    "                if vote_pct_tag:\n",
    "                    vote_pct = vote_pct_tag.get_text(strip=True).strip(\"()\").replace('% of vote', '').strip()\n",
    "\n",
    "               # Loop through each 'td' with the label names\n",
    "                    # Find the 'td' element containing the label name\n",
    "                    raised_label_td = block.find('td', string=\"Raised:\")\n",
    "                    spent_label_td = block.find('td', string=\"Spent:\")\n",
    "                    \n",
    "                    # If the label is found, find the next 'td' sibling (which should contain the dollar value)\n",
    "                    if raised_label_td or spent_label_td:\n",
    "                        raised = raised_label_td.find_next_sibling('td').get_text()\n",
    "                        spent = spent_label_td.find_next_sibling('td').get_text()\n",
    "                        print(raised)                \n",
    "\n",
    "                        pandas_data.append({\n",
    "                            \"State\": state_district[:2],\n",
    "                            \"District\": state_district[2:],\n",
    "                            \"Name\": name,\n",
    "                            \"Party\": party,\n",
    "                            \"Incumbent\": incumbent,\n",
    "                            \"Winner\": winner,\n",
    "                            \"Vote Percentage\": vote_pct,\n",
    "                            \"Raised\": raised,\n",
    "                            \"Spent\": spent\n",
    "                        })\n",
    "        else:\n",
    "            print(f\"No candidate data found for {state_district}\")\n",
    "            bad_districts.append(state_district)\n",
    "            \n",
    "    except Exception as e:\n",
    "        print(f\"An error occurred while processing {state_district}: {str(e)}\")\n",
    "        bad_districts.append(state_district)\n",
    "\n",
    "    return pandas_data\n"
   ]
  },
  {
   "cell_type": "code",
   "execution_count": 123,
   "metadata": {},
   "outputs": [
    {
     "name": "stdout",
     "output_type": "stream",
     "text": [
      "('Tony Cardenas', 'D')\n",
      "$1,419,697\n",
      "An error occurred while processing CA29: 'NoneType' object has no attribute 'groups'\n"
     ]
    },
    {
     "data": {
      "text/html": [
       "<div>\n",
       "<style scoped>\n",
       "    .dataframe tbody tr th:only-of-type {\n",
       "        vertical-align: middle;\n",
       "    }\n",
       "\n",
       "    .dataframe tbody tr th {\n",
       "        vertical-align: top;\n",
       "    }\n",
       "\n",
       "    .dataframe thead th {\n",
       "        text-align: right;\n",
       "    }\n",
       "</style>\n",
       "<table border=\"1\" class=\"dataframe\">\n",
       "  <thead>\n",
       "    <tr style=\"text-align: right;\">\n",
       "      <th></th>\n",
       "      <th>State</th>\n",
       "      <th>District</th>\n",
       "      <th>Name</th>\n",
       "      <th>Party</th>\n",
       "      <th>Incumbent</th>\n",
       "      <th>Winner</th>\n",
       "      <th>Vote Percentage</th>\n",
       "      <th>Raised</th>\n",
       "      <th>Spent</th>\n",
       "    </tr>\n",
       "  </thead>\n",
       "  <tbody>\n",
       "    <tr>\n",
       "      <th>0</th>\n",
       "      <td>CA</td>\n",
       "      <td>29</td>\n",
       "      <td>Tony Cardenas</td>\n",
       "      <td>D</td>\n",
       "      <td>True</td>\n",
       "      <td>True</td>\n",
       "      <td>56.6</td>\n",
       "      <td>$1,419,697</td>\n",
       "      <td>$1,213,588</td>\n",
       "    </tr>\n",
       "  </tbody>\n",
       "</table>\n",
       "</div>"
      ],
      "text/plain": [
       "  State District           Name Party  Incumbent  Winner Vote Percentage  \\\n",
       "0    CA       29  Tony Cardenas     D       True    True            56.6   \n",
       "\n",
       "       Raised       Spent  \n",
       "0  $1,419,697  $1,213,588  "
      ]
     },
     "execution_count": 123,
     "metadata": {},
     "output_type": "execute_result"
    }
   ],
   "source": [
    "data = scrape_candidate_data(\"CA29\")\n",
    "df = pd.DataFrame(data)\n",
    "df"
   ]
  }
 ],
 "metadata": {
  "kernelspec": {
   "display_name": "base",
   "language": "python",
   "name": "python3"
  },
  "language_info": {
   "codemirror_mode": {
    "name": "ipython",
    "version": 3
   },
   "file_extension": ".py",
   "mimetype": "text/x-python",
   "name": "python",
   "nbconvert_exporter": "python",
   "pygments_lexer": "ipython3",
   "version": "3.11.4"
  },
  "orig_nbformat": 4
 },
 "nbformat": 4,
 "nbformat_minor": 2
}
