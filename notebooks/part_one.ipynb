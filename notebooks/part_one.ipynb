{
 "cells": [
  {
   "cell_type": "code",
   "execution_count": 319,
   "metadata": {},
   "outputs": [],
   "source": [
    "from bs4 import BeautifulSoup\n",
    "import requests\n",
    "import pandas as pd\n",
    "import re\n",
    "import sys\n",
    "%run ../data/states_districts.py"
   ]
  },
  {
   "cell_type": "code",
   "execution_count": 320,
   "metadata": {},
   "outputs": [],
   "source": [
    "# Fucntion which recieves state and district in the form e.g. TN07 as arg to scrape page\n",
    "def scrape_candidate_data(state_district):\n",
    "    endpoint = f'https://www.opensecrets.org/races/candidates?cycle=2020&id={state_district}&spec=N'\n",
    "    res = requests.get(endpoint)\n",
    "    soup = BeautifulSoup(res.text, 'html.parser')\n",
    "    pattern_candidate = re.compile(r\"(.+?) \\((R|D|I)\\)( •Incumbent•Winner)?(\\(([\\d.]+)% of vote\\))?\")\n",
    "\n",
    "    pandas_data = []\n",
    "    bad_districts = []\n",
    "    # Extract candidate data\n",
    "    for element in soup.find_all('h2'):\n",
    "        text = element.get_text(strip=True)\n",
    "        match = pattern_candidate.match(text)\n",
    "        if match:\n",
    "            name, party, incumbent_winner, _, vote_percentage = match.groups()\n",
    "            incumbent = incumbent_winner is not None\n",
    "            winner = incumbent  # Assumes if they are incumbent they are also the winner\n",
    "            pandas_data.append({\n",
    "                \"Name\": name,\n",
    "                \"Party\": party,\n",
    "                \"Incumbent\": incumbent,\n",
    "                \"Winner\": winner,\n",
    "                \"Vote Percentage\": vote_percentage,\n",
    "                \"Raised\": None,\n",
    "                \"Spent\": None\n",
    "            })\n",
    "\n",
    "    financial_tables = soup.find_all('table', class_='Members--table')\n",
    "    \n",
    "    # print(f\"Found {len(pandas_data)} candidates and {len(financial_tables)} financial data tables\")\n",
    "    \n",
    "    # Loop through all the tables with class 'Members--table'\n",
    "    for candidate_data, table in zip(pandas_data, financial_tables):\n",
    "        # print(f\"Processing financial data for {candidate_data['Name']}\")\n",
    "        # Loop through all the tr elements in the table\n",
    "        for row in table.find_all('tr'):\n",
    "            # Get the text content of all td elements in the row\n",
    "            cols = [col.get_text() for col in row.find_all('td')]\n",
    "            \n",
    "            # Check if the first column is 'Raised' or 'Spent', and if so, store the data\n",
    "            if cols[0] == 'Raised:':\n",
    "                candidate_data['Raised'] = cols[1]\n",
    "            elif cols[0] == 'Spent:':\n",
    "                candidate_data['Spent'] = cols[1]\n",
    "        # print(candidate_data)\n",
    "    \n",
    "    # Additional step: Check the length mismatch between candidate data and financial tables\n",
    "    if len(pandas_data) != len(financial_tables):\n",
    "        # print(f\"Data length mismatch in {state_district}: {len(pandas_data)} candidate entries and {len(financial_tables)} financial entries.\")\n",
    "        bad_districts.append(state_district)\n",
    "    \n",
    "    return pandas_data, bad_districts"
   ]
  },
  {
   "cell_type": "code",
   "execution_count": 324,
   "metadata": {},
   "outputs": [
    {
     "name": "stdout",
     "output_type": "stream",
     "text": [
      "Found 2 candidates and 2 financial data tables\n",
      "Processing financial data for Jimmy Panetta\n",
      "{'Name': 'Jimmy Panetta', 'Party': 'D', 'Incumbent': True, 'Winner': True, 'Vote Percentage': '76.8', 'Raised': '$2,009,894', 'Spent': '$1,592,671'}\n",
      "Processing financial data for Jeff Gorman\n",
      "{'Name': 'Jeff Gorman', 'Party': 'R', 'Incumbent': False, 'Winner': False, 'Vote Percentage': '23.2', 'Raised': '$67,634', 'Spent': '$64,947'}\n"
     ]
    },
    {
     "data": {
      "text/html": [
       "<div>\n",
       "<style scoped>\n",
       "    .dataframe tbody tr th:only-of-type {\n",
       "        vertical-align: middle;\n",
       "    }\n",
       "\n",
       "    .dataframe tbody tr th {\n",
       "        vertical-align: top;\n",
       "    }\n",
       "\n",
       "    .dataframe thead th {\n",
       "        text-align: right;\n",
       "    }\n",
       "</style>\n",
       "<table border=\"1\" class=\"dataframe\">\n",
       "  <thead>\n",
       "    <tr style=\"text-align: right;\">\n",
       "      <th></th>\n",
       "      <th>Name</th>\n",
       "      <th>Party</th>\n",
       "      <th>Incumbent</th>\n",
       "      <th>Winner</th>\n",
       "      <th>Vote Percentage</th>\n",
       "      <th>Raised</th>\n",
       "      <th>Spent</th>\n",
       "    </tr>\n",
       "  </thead>\n",
       "  <tbody>\n",
       "    <tr>\n",
       "      <th>0</th>\n",
       "      <td>Jimmy Panetta</td>\n",
       "      <td>D</td>\n",
       "      <td>True</td>\n",
       "      <td>True</td>\n",
       "      <td>76.8</td>\n",
       "      <td>$2,009,894</td>\n",
       "      <td>$1,592,671</td>\n",
       "    </tr>\n",
       "    <tr>\n",
       "      <th>1</th>\n",
       "      <td>Jeff Gorman</td>\n",
       "      <td>R</td>\n",
       "      <td>False</td>\n",
       "      <td>False</td>\n",
       "      <td>23.2</td>\n",
       "      <td>$67,634</td>\n",
       "      <td>$64,947</td>\n",
       "    </tr>\n",
       "  </tbody>\n",
       "</table>\n",
       "</div>"
      ],
      "text/plain": [
       "            Name Party  Incumbent  Winner Vote Percentage      Raised  \\\n",
       "0  Jimmy Panetta     D       True    True            76.8  $2,009,894   \n",
       "1    Jeff Gorman     R      False   False            23.2     $67,634   \n",
       "\n",
       "        Spent  \n",
       "0  $1,592,671  \n",
       "1     $64,947  "
      ]
     },
     "execution_count": 324,
     "metadata": {},
     "output_type": "execute_result"
    }
   ],
   "source": [
    "data = scrape_candidate_data(\"CA20\")\n",
    "df = pd.DataFrame(data)\n",
    "df"
   ]
  },
  {
   "cell_type": "code",
   "execution_count": 322,
   "metadata": {},
   "outputs": [
    {
     "data": {
      "text/plain": [
       "'\\nMismatch in the number of entries between candidate data and financial data for CA29\\nMismatch in the number of entries between candidate data and financial data for CO06\\nMismatch in the number of entries between candidate data and financial data for CO03\\nMismatch in the number of entries between candidate data and financial data for CO05\\nMismatch in the number of entries between candidate data and financial data for CT03\\nMismatch in the number of entries between candidate data and financial data for GA08\\nMismatch in the number of entries between candidate data and financial data for GA05\\nMismatch in the number of entries between candidate data and financial data for GA13\\nMismatch in the number of entries between candidate data and financial data for IL06\\nMismatch in the number of entries between candidate data and financial data for HI02\\nMismatch in the number of entries between candidate data and financial data for IN09\\nMismatch in the number of entries between candidate data and financial data for IL07\\nMismatch in the number of entries between candidate data and financial data for UT04\\nMismatch in the number of entries between candidate data and financial data for KY02\\nMismatch in the number of entries between candidate data and financial data for MI02\\n'"
      ]
     },
     "execution_count": 322,
     "metadata": {},
     "output_type": "execute_result"
    }
   ],
   "source": [
    "'''\n",
    "Mismatch in the number of entries between candidate data and financial data for CA29\n",
    "Mismatch in the number of entries between candidate data and financial data for CO06\n",
    "Mismatch in the number of entries between candidate data and financial data for CO03\n",
    "Mismatch in the number of entries between candidate data and financial data for CO05\n",
    "Mismatch in the number of entries between candidate data and financial data for CT03\n",
    "Mismatch in the number of entries between candidate data and financial data for GA08\n",
    "Mismatch in the number of entries between candidate data and financial data for GA05\n",
    "Mismatch in the number of entries between candidate data and financial data for GA13\n",
    "Mismatch in the number of entries between candidate data and financial data for IL06\n",
    "Mismatch in the number of entries between candidate data and financial data for HI02\n",
    "Mismatch in the number of entries between candidate data and financial data for IN09\n",
    "Mismatch in the number of entries between candidate data and financial data for IL07\n",
    "Mismatch in the number of entries between candidate data and financial data for UT04\n",
    "Mismatch in the number of entries between candidate data and financial data for KY02\n",
    "Mismatch in the number of entries between candidate data and financial data for MI02\n",
    "'''"
   ]
  }
 ],
 "metadata": {
  "kernelspec": {
   "display_name": "base",
   "language": "python",
   "name": "python3"
  },
  "language_info": {
   "codemirror_mode": {
    "name": "ipython",
    "version": 3
   },
   "file_extension": ".py",
   "mimetype": "text/x-python",
   "name": "python",
   "nbconvert_exporter": "python",
   "pygments_lexer": "ipython3",
   "version": "3.11.4"
  },
  "orig_nbformat": 4
 },
 "nbformat": 4,
 "nbformat_minor": 2
}
