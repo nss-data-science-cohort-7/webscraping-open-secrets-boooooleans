{
 "cells": [
  {
   "cell_type": "code",
   "execution_count": 43,
   "metadata": {},
   "outputs": [],
   "source": [
    "import geopandas as gpd\n",
    "import os\n",
    "import pandas as pd\n",
    "import plotly.express as px\n",
    "import ujson as json\n",
    "import numpy as np\n",
    "import matplotlib.pyplot as plt"
   ]
  },
  {
   "cell_type": "code",
   "execution_count": 44,
   "metadata": {},
   "outputs": [],
   "source": [
    "# # Read in the GeoJSON file\n",
    "# gdf = gpd.read_file(\"../data/Congressional_Districts.geojson\")\n",
    "\n",
    "# fig, ax = plt.subplots(figsize=(15, 10))\n",
    "# gdf.plot(column='PARTY', ax=ax, legend=True, cmap=\"viridis\", edgecolor=\"k\")\n",
    "# ax.set_title(\"US Congressional Districts by Party\")\n",
    "# plt.show()\n"
   ]
  },
  {
   "cell_type": "code",
   "execution_count": null,
   "metadata": {},
   "outputs": [],
   "source": [
    "# Load the GeoJSON as a GeoDataFrame\n",
    "gdf = gpd.read_file(\"../data/Congressional_Districts.geojson\")\n",
    "\n",
    "# Convert all Timestamp objects to strings\n",
    "gdf = gdf.applymap(lambda x: str(x) if isinstance(x, pd.Timestamp) else x)\n",
    "\n",
    "# Convert the GeoDataFrame to JSON\n",
    "geojson = json.loads(gdf.to_json())\n",
    "\n",
    "# Plot using Plotly\n",
    "fig = px.choropleth_mapbox(gdf, \n",
    "                           geojson=geojson, \n",
    "                           locations=gdf.index, \n",
    "                           color='PARTY',\n",
    "                           mapbox_style=\"carto-positron\", \n",
    "                           hover_name='NAMELSAD20',\n",
    "                           hover_data=['FIRSTNAME', 'LASTNAME', 'WEBSITEURL', 'PHONE'],\n",
    "                           center={\"lat\": 37.0902, \"lon\": -95.7129}, \n",
    "                           zoom=3,\n",
    "                           opacity=0.5,\n",
    "                           labels={'PARTY':'Party'})\n",
    "\n",
    "fig.update_layout(margin={\"r\":0,\"t\":0,\"l\":0,\"b\":0})\n",
    "fig.show()"
   ]
  },
  {
   "cell_type": "code",
   "execution_count": null,
   "metadata": {},
   "outputs": [],
   "source": [
    "df_election = pd.read_csv('../data/fips_df.csv')\n",
    "\n",
    "merged_gdf = gdf.merge(df_election, left_on=['STATEFP20', 'DISTRICT'], right_on=['STATEFP20', 'District'])\n",
    "\n",
    "\n",
    "geojson = json.loads(merged_gdf.to_json())\n",
    "\n",
    "# print(gdf.columns)\n",
    "# print(df_election.columns)\n",
    "\n",
    "# Plot using Plotly\n",
    "fig = px.choropleth_mapbox(merged_gdf, \n",
    "                           geojson=geojson, \n",
    "                           locations=merged_gdf.index, \n",
    "                           color='Vote Percentage',\n",
    "                           mapbox_style=\"carto-positron\", \n",
    "                           hover_name='Name',\n",
    "                           hover_data=['Party', 'Raised', 'Spent'],\n",
    "                           center={\"lat\": 37.0902, \"lon\": -95.7129}, \n",
    "                           zoom=3,\n",
    "                           opacity=0.5,\n",
    "                           labels={'Vote Percentage':'Vote Percentage'})\n",
    "\n",
    "fig.update_layout(margin={\"r\":0,\"t\":0,\"l\":0,\"b\":0})\n",
    "fig.show()"
   ]
  }
 ],
 "metadata": {
  "kernelspec": {
   "display_name": "base",
   "language": "python",
   "name": "python3"
  },
  "language_info": {
   "codemirror_mode": {
    "name": "ipython",
    "version": 3
   },
   "file_extension": ".py",
   "mimetype": "text/x-python",
   "name": "python",
   "nbconvert_exporter": "python",
   "pygments_lexer": "ipython3",
   "version": "3.11.2"
  }
 },
 "nbformat": 4,
 "nbformat_minor": 2
}
