{
 "cells": [
  {
   "cell_type": "code",
   "execution_count": 36,
   "metadata": {},
   "outputs": [],
   "source": [
    "import geopandas as gpd\n",
    "import os\n",
    "import pandas as pd\n",
    "import plotly.express as px\n",
    "import ujson as json\n",
    "import numpy as np\n",
    "import matplotlib.pyplot as plt"
   ]
  },
  {
   "cell_type": "code",
   "execution_count": 37,
   "metadata": {},
   "outputs": [],
   "source": [
    "# # Read in the GeoJSON file\n",
    "# gdf = gpd.read_file(\"../data/Congressional_Districts.geojson\")\n",
    "\n",
    "# fig, ax = plt.subplots(figsize=(15, 10))\n",
    "# gdf.plot(column='PARTY', ax=ax, legend=True, cmap=\"viridis\", edgecolor=\"k\")\n",
    "# ax.set_title(\"US Congressional Districts by Party\")\n",
    "# plt.show()\n"
   ]
  },
  {
   "cell_type": "code",
   "execution_count": 38,
   "metadata": {},
   "outputs": [
    {
     "name": "stderr",
     "output_type": "stream",
     "text": [
      "/var/folders/5h/nwvnh_3n7ps8kv274hd_b6800000gn/T/ipykernel_18190/2233565852.py:5: FutureWarning:\n",
      "\n",
      "DataFrame.applymap has been deprecated. Use DataFrame.map instead.\n",
      "\n"
     ]
    }
   ],
   "source": [
    "# Load the GeoJSON as a GeoDataFrame\n",
    "gdf = gpd.read_file(\"../data/Congressional_Districts.geojson\")\n",
    "\n",
    "# Convert all Timestamp objects to strings\n",
    "gdf = gdf.applymap(lambda x: str(x) if isinstance(x, pd.Timestamp) else x)\n",
    "\n",
    "# # Convert the GeoDataFrame to JSON\n",
    "# geojson = json.loads(gdf.to_json())\n",
    "\n",
    "# # Plot using Plotly\n",
    "# fig = px.choropleth_mapbox(gdf, \n",
    "#                            geojson=geojson, \n",
    "#                            locations=gdf.index, \n",
    "#                            color='PARTY',\n",
    "#                            mapbox_style=\"carto-positron\", \n",
    "#                            hover_name='NAMELSAD20',\n",
    "#                            hover_data=['FIRSTNAME', 'LASTNAME', 'WEBSITEURL', 'PHONE'],\n",
    "#                            center={\"lat\": 37.0902, \"lon\": -95.7129}, \n",
    "#                            zoom=3,\n",
    "#                            opacity=0.5,\n",
    "#                            labels={'PARTY':'Party'})\n",
    "\n",
    "# fig.update_layout(margin={\"r\":0,\"t\":0,\"l\":0,\"b\":0})\n",
    "# fig.show()"
   ]
  },
  {
   "cell_type": "code",
   "execution_count": 44,
   "metadata": {},
   "outputs": [
    {
     "name": "stdout",
     "output_type": "stream",
     "text": [
      "Empty DataFrame\n",
      "Columns: [Unnamed: 0, State, District, Name, Party, Incumbent, Winner, Vote Percentage, Raised, Spent, Total_Spent_Per_District, Percent_Spent, STATEFP20]\n",
      "Index: []\n"
     ]
    }
   ],
   "source": [
    "df_election = pd.read_csv('../data/fips_df.csv')\n",
    "print(df_election[df_election['State'] == 'California'])"
   ]
  },
  {
   "cell_type": "code",
   "execution_count": null,
   "metadata": {},
   "outputs": [],
   "source": [
    "df_election = pd.read_csv('../data/fips_df.csv')\n",
    "\n",
    "# Update '00' districts to '01' in GeoJSON data\n",
    "gdf['DISTRICT'] = gdf['DISTRICT'].replace('00', '01')\n",
    "df_election['District'] = df_election['District'].apply(lambda x: str(x).zfill(2))\n",
    "\n",
    "# Convert the STATEFP20 columns to string in both DataFrames\n",
    "gdf['STATEFP20'] = gdf['STATEFP20'].astype(str).str.zfill(2)\n",
    "df_election['STATEFP20'] = df_election['STATEFP20'].astype(str).str.zfill(2)\n",
    "\n",
    "# Convert STATEFP20 columns to string\n",
    "gdf['STATEFP20'] = gdf['STATEFP20'].astype(str)\n",
    "df_election['STATEFP20'] = df_election['STATEFP20'].astype(str)\n",
    "gdf['DISTRICT'] = gdf['DISTRICT'].astype(str)\n",
    "df_election['District'] = df_election['District'].astype(str)\n",
    "\n",
    "\n",
    "# Remove any leading or trailing whitespace\n",
    "gdf['DISTRICT'] = gdf['DISTRICT'].str.strip()\n",
    "df_election['District'] = df_election['District'].str.strip()\n",
    "\n",
    "merged_gdf = gdf.merge(df_election, left_on=['STATEFP20', 'DISTRICT'], right_on=['STATEFP20', 'District'], how='left')\n",
    "\n",
    "\n",
    "geojson = json.loads(merged_gdf.to_json())\n",
    "\n",
    "# print(gdf.dtypes)\n",
    "# print(df_election.dtypes)\n",
    "\n",
    "# Plot using Plotly\n",
    "fig = px.choropleth_mapbox(merged_gdf, \n",
    "                           geojson=geojson, \n",
    "                           locations=merged_gdf.index, \n",
    "                           color='Vote Percentage',\n",
    "                           mapbox_style=\"carto-positron\", \n",
    "                           hover_name='Name',\n",
    "                           hover_data=['Party', 'Raised', 'Spent'],\n",
    "                           center={\"lat\": 37.0902, \"lon\": -95.7129}, \n",
    "                           zoom=3,\n",
    "                           opacity=0.5,\n",
    "                           labels={'Vote Percentage':'Vote Percentage'})\n",
    "\n",
    "fig.update_layout(margin={\"r\":0,\"t\":0,\"l\":0,\"b\":0})\n",
    "fig.show()"
   ]
  }
 ],
 "metadata": {
  "kernelspec": {
   "display_name": "base",
   "language": "python",
   "name": "python3"
  },
  "language_info": {
   "codemirror_mode": {
    "name": "ipython",
    "version": 3
   },
   "file_extension": ".py",
   "mimetype": "text/x-python",
   "name": "python",
   "nbconvert_exporter": "python",
   "pygments_lexer": "ipython3",
   "version": "3.11.2"
  }
 },
 "nbformat": 4,
 "nbformat_minor": 2
}
