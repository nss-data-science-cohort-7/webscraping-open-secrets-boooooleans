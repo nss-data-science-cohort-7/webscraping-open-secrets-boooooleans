{
 "cells": [
  {
   "cell_type": "markdown",
   "id": "caef2b1f",
   "metadata": {},
   "source": [
    "In this part, you will obtain as much data as you can on the campaign contributions received by each candidate. This data is available through the website https://www.opensecrets.org/.\n",
    "\n",
    "Part 1: Data Gathering\n",
    "Start by scraping the data from the summary page for Tennessee's 7th District, which is available at https://www.opensecrets.org/races/candidates?cycle=2020&id=TN07&spec=N.\n",
    "Make a DataFrame showing, for each candidate:\n",
    "the candidate's name\n",
    "the candidate's party\n",
    "state\n",
    "district number\n",
    "whether the candidate was an incumbent\n",
    "whether the candidate won the race\n",
    "the percentage of the vote that candidate received\n",
    "the total amount raised by that candidate (as a numeric variable)\n",
    "the total amount spent by the candidate (as a numeric variable)"
   ]
  },
  {
   "cell_type": "code",
   "execution_count": null,
   "id": "71ce756a",
   "metadata": {},
   "outputs": [],
   "source": []
  }
 ],
 "metadata": {
  "kernelspec": {
   "display_name": "Python 3 (ipykernel)",
   "language": "python",
   "name": "python3"
  },
  "language_info": {
   "codemirror_mode": {
    "name": "ipython",
    "version": 3
   },
   "file_extension": ".py",
   "mimetype": "text/x-python",
   "name": "python",
   "nbconvert_exporter": "python",
   "pygments_lexer": "ipython3",
   "version": "3.11.4"
  }
 },
 "nbformat": 4,
 "nbformat_minor": 5
}
